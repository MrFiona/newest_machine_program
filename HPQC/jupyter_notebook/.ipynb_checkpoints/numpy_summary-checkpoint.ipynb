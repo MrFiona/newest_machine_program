{
 "cells": [
  {
   "cell_type": "code",
   "execution_count": 1,
   "metadata": {
    "collapsed": true
   },
   "outputs": [],
   "source": [
    "import numpy as np"
   ]
  },
  {
   "cell_type": "code",
   "execution_count": 2,
   "metadata": {},
   "outputs": [
    {
     "data": {
      "text/plain": [
       "array([[0, 1, 2],\n",
       "       [3, 4, 5]])"
      ]
     },
     "execution_count": 2,
     "metadata": {},
     "output_type": "execute_result"
    }
   ],
   "source": [
    "#reshape行数列数乘积需要保证等于6\n",
    "array_1 =  np.arange(6)\n",
    "x = array_1.reshape((2,3))\n",
    "x"
   ]
  },
  {
   "cell_type": "code",
   "execution_count": 3,
   "metadata": {},
   "outputs": [
    {
     "data": {
      "text/plain": [
       "array([ 1.,  3.,  5.,  7.,  9.])"
      ]
     },
     "execution_count": 3,
     "metadata": {},
     "output_type": "execute_result"
    }
   ],
   "source": [
    "#arange类似于python的range函数\n",
    "array_2 = np.arange(1, 10, 2, dtype=np.float)\n",
    "array_2"
   ]
  },
  {
   "cell_type": "code",
   "execution_count": 4,
   "metadata": {
    "scrolled": true
   },
   "outputs": [
    {
     "name": "stdout",
     "output_type": "stream",
     "text": [
      "维度数量： 2\n",
      "数组的形状： (2L, 3L)\n",
      "数组的元素类型： int32\n",
      "数组的元素数量： 6\n"
     ]
    }
   ],
   "source": [
    "print '维度数量：', x.ndim\n",
    "print '数组的形状：', x.shape\n",
    "print '数组的元素类型：', x.dtype\n",
    "print '数组的元素数量：', x.size"
   ]
  },
  {
   "cell_type": "code",
   "execution_count": 5,
   "metadata": {},
   "outputs": [
    {
     "name": "stdout",
     "output_type": "stream",
     "text": [
      "[ 4  6  8 10 12 14 16 18]\n",
      "[[  1   2 324]\n",
      " [ 23  45  76]]\n"
     ]
    }
   ],
   "source": [
    "array_3 = np.array(range(4, 20, 2), dtype=np.int)\n",
    "array_4 = np.array([[1,2,324], [23,45,76]])\n",
    "print array_3\n",
    "print array_4"
   ]
  },
  {
   "cell_type": "code",
   "execution_count": 6,
   "metadata": {},
   "outputs": [
    {
     "name": "stdout",
     "output_type": "stream",
     "text": [
      "[1 1 1]\n",
      "[[1 1 1 1]\n",
      " [1 1 1 1]\n",
      " [1 1 1 1]]\n"
     ]
    }
   ],
   "source": [
    "array_one = np.ones(3, dtype=np.int)\n",
    "array_one_1 = np.ones((3,4), dtype=np.int)\n",
    "print array_one\n",
    "print array_one_1"
   ]
  },
  {
   "cell_type": "code",
   "execution_count": 7,
   "metadata": {},
   "outputs": [
    {
     "name": "stdout",
     "output_type": "stream",
     "text": [
      "[  6.09738745e-316   6.09738745e-316   6.07604658e-316]\n",
      "[[  49838008          0   49837984          0]\n",
      " [  72009528          0 1629465688          0]\n",
      " [ 122995400          0  122998024          0]]\n",
      "[[  6.07780190e-316   6.07792759e-316   6.07791336e-316   6.07792285e-316]\n",
      " [  6.07785882e-316   6.07790862e-316   2.45494895e-316   0.00000000e+000]\n",
      " [  0.00000000e+000   0.00000000e+000   0.00000000e+000   0.00000000e+000]]\n"
     ]
    }
   ],
   "source": [
    "array_empty = np.empty(3)\n",
    "array_empty_1 = np.empty((3,4), dtype=np.int)\n",
    "#不指定数据类型则默认是float类型,数据则是浮点型随机数据\n",
    "array_empty_2 = np.empty((3,4))\n",
    "print array_empty\n",
    "print array_empty_1\n",
    "print array_empty_2"
   ]
  },
  {
   "cell_type": "code",
   "execution_count": 8,
   "metadata": {},
   "outputs": [
    {
     "name": "stdout",
     "output_type": "stream",
     "text": [
      "[ 0.  0.  0.]\n",
      "[[0 0 0 0]\n",
      " [0 0 0 0]\n",
      " [0 0 0 0]]\n",
      "[[ 0.  0.  0.  0.]\n",
      " [ 0.  0.  0.  0.]\n",
      " [ 0.  0.  0.  0.]]\n"
     ]
    }
   ],
   "source": [
    "array_zeros = np.zeros(3)\n",
    "array_zeros_1 = np.zeros((3,4), dtype=np.int)\n",
    "#不指定数据类型则默认是float类型\n",
    "array_zeros_2 = np.zeros((3,4))\n",
    "print array_zeros\n",
    "print array_zeros_1\n",
    "print array_zeros_2"
   ]
  },
  {
   "cell_type": "code",
   "execution_count": 9,
   "metadata": {},
   "outputs": [
    {
     "name": "stdout",
     "output_type": "stream",
     "text": [
      "int32\n",
      "float64\n"
     ]
    }
   ],
   "source": [
    "#改变已有数组的数据类型\n",
    "print x.dtype\n",
    "change_x = x.astype(np.float)\n",
    "print change_x.dtype"
   ]
  },
  {
   "cell_type": "code",
   "execution_count": 10,
   "metadata": {},
   "outputs": [
    {
     "data": {
      "text/plain": [
       "array([[ 4,  6],\n",
       "       [ 8, 10],\n",
       "       [12, 14],\n",
       "       [16, 18]])"
      ]
     },
     "execution_count": 10,
     "metadata": {},
     "output_type": "execute_result"
    }
   ],
   "source": [
    "#reshape修改数组形状，-1代表当前维度的元素个数，自动计算\n",
    "reshape_array_3 = array_3.reshape(4,-1)\n",
    "reshape_array_3"
   ]
  },
  {
   "cell_type": "code",
   "execution_count": 11,
   "metadata": {},
   "outputs": [
    {
     "name": "stdout",
     "output_type": "stream",
     "text": [
      "[[0]\n",
      " [1]]\n",
      "[[0 1 2]\n",
      " [3 0 0]]\n"
     ]
    }
   ],
   "source": [
    "b = np.array([[0, 1], [2, 3]])\n",
    "m = np.array([[0, 1], [2, 3]])\n",
    "b.resize((2,1))\n",
    "m.resize((2,3))\n",
    "print b\n",
    "print m"
   ]
  },
  {
   "cell_type": "code",
   "execution_count": 12,
   "metadata": {},
   "outputs": [
    {
     "name": "stdout",
     "output_type": "stream",
     "text": [
      "m: [[ 1  3  5]\n",
      " [ 7  9 11]]\n",
      "n: [[  2.   4.]\n",
      " [  6.   8.]\n",
      " [ 10.  12.]]\n",
      "np.dot(m, n): [[  70.   88.]\n",
      " [ 178.  232.]]\n"
     ]
    }
   ],
   "source": [
    "#矩阵的乘积 其中一个矩阵的行等于另一个矩阵的列\n",
    "m = np.arange(1, 12, 2)\n",
    "m = m.reshape((2,3))\n",
    "print 'm:', m\n",
    "\n",
    "n = np.arange(2, 14, 2, dtype=np.float)\n",
    "n = n.reshape((3,2))\n",
    "print 'n:', n\n",
    "\n",
    "print 'np.dot(m, n):', np.dot(m, n)"
   ]
  },
  {
   "cell_type": "code",
   "execution_count": 13,
   "metadata": {},
   "outputs": [
    {
     "name": "stdout",
     "output_type": "stream",
     "text": [
      "test_array[1]: [[0 3 4 8]\n",
      " [2 4 9 4]]\n",
      "test_array[1][0]: [0 3 4 8]\n",
      "test_array[1][0][1:3]: [3 4]\n",
      "test_array[1, :, 1:3]: [[3 4]\n",
      " [4 9]]\n",
      "test_array[1, :][1:]: [[2 4 9 4]]\n",
      "test_array[1, :][0]: [0 3 4 8]\n",
      "test_array[1, :]: [[0 3 4 8]\n",
      " [2 4 9 4]]\n",
      "test_array[1][:]: [[0 3 4 8]\n",
      " [2 4 9 4]]\n"
     ]
    }
   ],
   "source": [
    "#ndarray-多维数组的索引\n",
    "test_array = np.array([[[2, 3, 4, 5], \n",
    "                        [1, 3, 4, 9]],\n",
    "                       [[0, 3, 4, 8],\n",
    "                        [2, 4, 9, 4]],\n",
    "                       [[1, 4, 5, 8],\n",
    "                        [2, 5, 6, 8]],\n",
    "                       [[2, 3, 6, 8],\n",
    "                        [3, 4, 8, 9]]])\n",
    "print 'test_array[1]:', test_array[1]\n",
    "print 'test_array[1][0]:', test_array[1][0]\n",
    "print 'test_array[1][0][1:3]:', test_array[1][0][1:3]\n",
    "print 'test_array[1, :, 1:3]:', test_array[1, :, 1:3]\n",
    "print 'test_array[1, :][1:]:', test_array[1, :][1:]\n",
    "print 'test_array[1, :][0]:', test_array[1, :][0]\n",
    "print 'test_array[1, :]:', test_array[1, :]\n",
    "print 'test_array[1][:]:', test_array[1][:]"
   ]
  },
  {
   "cell_type": "code",
   "execution_count": 14,
   "metadata": {},
   "outputs": [
    {
     "name": "stdout",
     "output_type": "stream",
     "text": [
      "\n"
     ]
    }
   ],
   "source": [
    "print"
   ]
  },
  {
   "cell_type": "code",
   "execution_count": 15,
   "metadata": {},
   "outputs": [
    {
     "name": "stdout",
     "output_type": "stream",
     "text": [
      "[[94 78 91 67]]\n",
      "[91]\n",
      "[[ 94  78  91  67]\n",
      " [100  59  93  95]]\n",
      "[[ 89  70  98 100]]\n"
     ]
    }
   ],
   "source": [
    "#ndarray-布尔类型索引 \n",
    "#numpy中不能使用过python的and、or、not操作，使用逻辑与(&)，逻辑或(|)，逻辑非(~)来替换\n",
    "names = np.array(['Jeff', 'Tom', 'John', 'Lily'])\n",
    "scores = np.array([[94, 78, 91, 67],\n",
    "                   [89, 70, 98, 100], \n",
    "                   [80, 79, 82, 92],\n",
    "                   [100, 59, 93, 95]])\n",
    "classes = np.array([u'语文', u'英语', u'物理', u'数学'])\n",
    "print scores[names == 'Jeff']\n",
    "print scores[names == 'Jeff'].reshape((-1,))[classes == u'物理']\n",
    "print scores[(names == 'Jeff') | (names == 'Lily')]\n",
    "print scores[(names != 'Jeff') & (names != 'Lily') & (names != 'John')]"
   ]
  },
  {
   "cell_type": "code",
   "execution_count": 17,
   "metadata": {},
   "outputs": [
    {
     "name": "stdout",
     "output_type": "stream",
     "text": [
      "[[ 0  1  2  3]\n",
      " [ 4  5  6  7]\n",
      " [ 8  9 10 11]\n",
      " [12 13 14 15]\n",
      " [16 17 18 19]\n",
      " [20 21 22 23]\n",
      " [24 25 26 27]\n",
      " [28 29 30 31]] <type 'numpy.ndarray'>\n",
      "获取第0、3、5行的数据:\n",
      "[[ 0  1  2  3]\n",
      " [12 13 14 15]\n",
      " [20 21 22 23]]\n",
      "获取第(0, 0)，(3, 3)，(5, 3)这三个索引位置的数据: [ 0 15 23]\n",
      "获取第0、3、5行的第0、2、3列的数据: [[ 0  2  3]\n",
      " [12 14 15]\n",
      " [20 22 23]]\n",
      "获取第0、3、5行的第0、2、3列的数据: [[ 0  2  3]\n",
      " [12 14 15]\n",
      " [20 22 23]]\n",
      "np.ix_函数会产生一个索引器: (array([[0],\n",
      "       [3],\n",
      "       [5]]), array([[0, 2, 3]]))\n"
     ]
    }
   ],
   "source": [
    "#ndarray-花式索引\n",
    "array = np.arange(32).reshape(8, 4)\n",
    "print array, type(array)\n",
    "#获取第0、3、5行的数据\n",
    "print '获取第0、3、5行的数据:\\n', array[[0, 3, 5]]\n",
    "#获取第(0, 0)，(3, 3)，(5, 3)这三个索引位置的数据\n",
    "print '获取第(0, 0)，(3, 3)，(5, 3)这三个索引位置的数据:', array[[0,3,5],[0,3,3]]\n",
    "#获取第0、3、5行的第0、2、3列的数据\n",
    "print '获取第0、3、5行的第0、2、3列的数据:', array[[0,3,5]].T[[0,2,3]].T #通过转置矩阵实现\n",
    "print '获取第0、3、5行的第0、2、3列的数据:', array[np.ix_([0,3,5],[0,2,3])]\n",
    "#np.ix_函数会产生一个索引器\n",
    "print 'np.ix_函数会产生一个索引器:', np.ix_([0,3,5],[0,2,3])"
   ]
  },
  {
   "cell_type": "code",
   "execution_count": 18,
   "metadata": {
    "collapsed": true
   },
   "outputs": [],
   "source": [
    "#数组的转置是指将shape进行重置操作，并将其值重置为原始shape元祖的倒置，比如原始的shape值为：(2,3,4),转置后的新元祖shape值为（4,3,2）\n",
    "#对于二维数组而言(矩阵)数组的转置其实就是矩阵的的转置\n",
    "#可以通过调用数组的transpose函数或者T属性进行数组转置操作\n"
   ]
  },
  {
   "cell_type": "code",
   "execution_count": null,
   "metadata": {
    "collapsed": true
   },
   "outputs": [],
   "source": []
  }
 ],
 "metadata": {
  "kernelspec": {
   "display_name": "Python 2",
   "language": "python",
   "name": "python2"
  },
  "language_info": {
   "codemirror_mode": {
    "name": "ipython",
    "version": 2
   },
   "file_extension": ".py",
   "mimetype": "text/x-python",
   "name": "python",
   "nbconvert_exporter": "python",
   "pygments_lexer": "ipython2",
   "version": "2.7.13"
  }
 },
 "nbformat": 4,
 "nbformat_minor": 1
}
